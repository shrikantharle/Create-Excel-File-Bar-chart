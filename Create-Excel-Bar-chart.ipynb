{
 "cells": [
  {
   "cell_type": "code",
   "execution_count": 4,
   "id": "d3677c5e",
   "metadata": {},
   "outputs": [
    {
     "name": "stdout",
     "output_type": "stream",
     "text": [
      "  Load Case  Without Shear wall  With Shear Wall  \\\n",
      "0      EQ X            0.011072         0.007143   \n",
      "1      EQ Y            0.003506         0.002262   \n",
      "2    Spec X            0.009280         0.005987   \n",
      "3    Spec Y            0.004385         0.002829   \n",
      "4    Wind X            0.008561         0.005523   \n",
      "5    Wind Y            0.003639         0.002348   \n",
      "\n",
      "   % Reduction in Maximum Storey Drift  \n",
      "0                            35.483871  \n",
      "1                            35.483871  \n",
      "2                            35.483871  \n",
      "3                            35.483871  \n",
      "4                            35.483871  \n",
      "5                            35.483871  \n"
     ]
    },
    {
     "data": {
      "image/png": "[encoded data removed]",
      "text/plain": [
       "<Figure size 720x720 with 1 Axes>"
      ]
     },
     "metadata": {},
     "output_type": "display_data"
    }
   ],
   "source": [
    "import pandas as pd\n",
    "import numpy as np\n",
    "import xlswriter\n",
    "import os\n",
    "import matplotlib.pyplot as plt\n",
    "os.chdir('C:\\\\Users\\\\shrik\\\\Desktop\\\\New folder')\n",
    "dataset=pd.read_excel(\"Percentage-Reduction (Repaired1).xlsx\")\n",
    "print (dataset)\n",
    "x = list(dataset['Without Shear wall'])\n",
    "y = list(dataset['With Shear Wall'])\n",
    "plt.figure(figsize=(10,10))\n",
    "plt.style.use('seaborn')\n",
    "plt.scatter(x,y,marker=\"*\",s=100,edgecolors=\"black\",c=\"yellow\")\n",
    "plt.title(\"Excel sheet to Scatter Plot\")\n",
    "plt.show()"
   ]
  },
  {
   "cell_type": "code",
   "execution_count": 14,
   "id": "29e146b0",
   "metadata": {},
   "outputs": [
    {
     "name": "stdout",
     "output_type": "stream",
     "text": [
      "Empty DataFrame\n",
      "Columns: []\n",
      "Index: []\n"
     ]
    }
   ],
   "source": [
    "import pandas as pd\n",
    "import numpy as np\n",
    "import xlsxwriter\n",
    "import os\n",
    "import matplotlib.pyplot as plt\n",
    "\n",
    "os.chdir('C:\\\\Users\\\\shrik\\\\Desktop\\\\New folder')\n",
    "\n",
    "# Workbook() takes one, non-optional, argument\n",
    "# which is the filename that we want to create.\n",
    "workbook = xlsxwriter.Workbook('hello1.xlsx')\n",
    "\n",
    "# The workbook object is then used to add new\n",
    "# worksheet via the add_worksheet() method.\n",
    "worksheet = workbook.add_worksheet()\n",
    "data=pd.read_excel('hello1.xlsx')\n",
    "print(data)\n",
    "excel_file_path='./Output_chart.xlsx'\n",
    "date_format=workbook.add_format({'num_format':'dd/mm/yy'})\n",
    "\n",
    "for i,col_name in enumerate(data.columns):\n",
    "    worksheet.write(0,i,col_name)\n",
    "    if(i==0):\n",
    "        worksheet.write_column(1,i,data[col_name],date_format)\n",
    "    else:\n",
    "        worksheet.write_column(1,i,data[col_name])\n",
    "\n",
    "workbook.close()\n",
    "\n",
    "\n"
   ]
  },
  {
   "cell_type": "code",
   "execution_count": 9,
   "id": "5ef1aa40",
   "metadata": {},
   "outputs": [],
   "source": [
    "# import xlsxwriter module\n",
    "import xlsxwriter\n",
    "import os\n",
    "import matplotlib.pyplot as plt\n",
    "os.chdir('C:\\\\Users\\\\shrik\\\\Desktop\\\\New folder')\n",
    "\n",
    "# Workbook() takes one, non-optional, argument\n",
    "# which is the filename that we want to create.\n",
    "workbook = xlsxwriter.Workbook('hello1.xlsx')\n",
    "\n",
    "# The workbook object is then used to add new\n",
    "# worksheet via the add_worksheet() method.\n",
    "worksheet = workbook.add_worksheet()\n",
    "\n",
    "\n",
    "workbook.close()"
   ]
  },
  {
   "cell_type": "code",
   "execution_count": 16,
   "id": "e5d93a2f",
   "metadata": {},
   "outputs": [],
   "source": [
    "# import openpyxl module\n",
    "import openpyxl\n",
    "# import xlsxwriter module\n",
    "import xlsxwriter\n",
    "import os\n",
    "import matplotlib.pyplot as plt\n",
    "os.chdir('C:\\\\Users\\\\shrik\\\\Desktop\\\\New folder')\n",
    "# import BarChart class from openpyxl.chart sub_module\n",
    "from openpyxl.chart import BarChart,Reference\n",
    "\n",
    "# Call a Workbook() function of openpyxl\n",
    "# to create a new blank Workbook object\n",
    "wb = openpyxl.Workbook()\n",
    "\n",
    "# Get workbook active sheet\n",
    "# from the active attribute.\n",
    "sheet = wb.active\n",
    "\n",
    "# write o to 9 in 1st column of the active sheet\n",
    "for i in range(10):\n",
    "\tsheet.append([i])\n",
    "\n",
    "# create data for plotting\n",
    "values = Reference(sheet, min_col = 1, min_row = 1,\n",
    "\t\t\t\t\t\tmax_col = 1, max_row = 10)\n",
    "\n",
    "# Create object of BarChart class\n",
    "chart = BarChart()\n",
    "\n",
    "# adding data to the Bar chart object\n",
    "chart.add_data(values)\n",
    "\n",
    "# set the title of the chart\n",
    "chart.title = \" BAR-CHART \"\n",
    "\n",
    "# set the title of the x-axis\n",
    "chart.x_axis.title = \" X_AXIS \"\n",
    "\n",
    "# set the title of the y-axis\n",
    "chart.y_axis.title = \" Y_AXIS \"\n",
    "\n",
    "# add chart to the sheet\n",
    "# the top-left corner of a chart\n",
    "# is anchored to cell E2 .\n",
    "sheet.add_chart(chart, \"E2\")\n",
    "\n",
    "# save the file\n",
    "wb.save(\"barChart.xlsx\")\n"
   ]
  },
  {
   "cell_type": "code",
   "execution_count": null,
   "id": "4bb7b383",
   "metadata": {},
   "outputs": [],
   "source": []
  }
 ],
 "metadata": {
  "kernelspec": {
   "display_name": "Python 3 (ipykernel)",
   "language": "python",
   "name": "python3"
  },
  "language_info": {
   "codemirror_mode": {
    "name": "ipython",
    "version": 3
   },
   "file_extension": ".py",
   "mimetype": "text/x-python",
   "name": "python",
   "nbconvert_exporter": "python",
   "pygments_lexer": "ipython3",
   "version": "3.9.7"
  }
 },
 "nbformat": 4,
 "nbformat_minor": 5
}
